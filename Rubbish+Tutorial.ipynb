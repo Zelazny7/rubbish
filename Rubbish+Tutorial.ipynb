{
 "cells": [
  {
   "cell_type": "markdown",
   "metadata": {},
   "source": [
    "# Rubbish tutorial\n",
    "\n",
    "This notebook will provide a detailed walkthrough of rubbish's features and demonstrate how it should be used in practice. Rubbish is an R package developed by LexisNexis Risk Solutions that aims to help modelers build Scorecards quickly, efficiently, and without sacrificing predictive power. This walkthrough requiresa few prequisites before beginning.\n",
    "\n",
    "## Prequisites\n",
    "\n",
    "Jupter is a general programming platform that allows users to annotate data analyses with commentary in a linear notebook. It excels at intermixing code and exposition for maximum readability and is well-suited for tutorials. The recommended method for installing Jupyter on windows is through the <a href=\"https://www.continuum.io/Downloads\">Anaconda Python distribution</a>.\n",
    "\n",
    "As mentioned earlier, Jupyter is a *general* framework and as such supports many different languages. Though out-of-the-box it only supports Python. The next step is to add support for the R programming language. From within RStudio enter the following.\n",
    "\n",
    "### Installing `devtools` and the IRKernel"
   ]
  },
  {
   "cell_type": "code",
   "execution_count": null,
   "metadata": {
    "collapsed": true
   },
   "outputs": [],
   "source": [
    "install.packages('devtools')\n",
    "install.pacakges('installr')\n",
    "devtools::install_github('IRkernel/IRkernel')\n",
    "IRkernel::installspec()  # to register the kernel in the current R installation"
   ]
  },
  {
   "cell_type": "markdown",
   "metadata": {},
   "source": [
    "The preceding lines install the `devtools` R package which provides support functions for working with R pacakges. `devtools` allows users to install packages hosted directly on <a hhref=\"github.com\">Github</a>. This is where the Jupyter support for the R language is hosted (also called a kernel).\n",
    "\n",
    "### Installing Rtools\n",
    "\n",
    "The freshest way to install a package is to install it from *source*. Source packages are a collection of raw files that have not yet been compiled for your machine. Windows does not come with the tools necessary to do this so they must be installed. The `installr` package provides an easy-to-use function to install what we need."
   ]
  },
  {
   "cell_type": "code",
   "execution_count": null,
   "metadata": {
    "collapsed": true
   },
   "outputs": [],
   "source": [
    "installr::install.rtools()\n",
    "devtools::setup_rtools()"
   ]
  },
  {
   "cell_type": "markdown",
   "metadata": {},
   "source": [
    "### Installing `rubbish`\n",
    "\n",
    "`devtools` is the preferred method of install `rubbish` from a local repository hosted on <a href=\"https://gitlab.ins.risk.regn.net/\">Gitlab</a>. The following lines do just that:"
   ]
  },
  {
   "cell_type": "code",
   "execution_count": null,
   "metadata": {
    "collapsed": true
   },
   "outputs": [],
   "source": [
    "devtools::install_git(\"https://gitlab.ins.risk.regn.net/minneapolis-r-packages/rubbish.git\")"
   ]
  },
  {
   "cell_type": "markdown",
   "metadata": {},
   "source": [
    "# Getting Started with Rubbish\n",
    "\n",
    "Rubbish comes with a dataset of titanic survivors. We will be using it throughout this tutorial."
   ]
  },
  {
   "cell_type": "code",
   "execution_count": 1,
   "metadata": {
    "collapsed": false
   },
   "outputs": [
    {
     "name": "stderr",
     "output_type": "stream",
     "text": [
      "Loading required package: rubbish\n"
     ]
    },
    {
     "data": {
      "text/html": [
       "<table>\n",
       "<thead><tr><th scope=col>Survived</th><th scope=col>Pclass</th><th scope=col>Sex</th><th scope=col>Age</th><th scope=col>SibSp</th><th scope=col>Parch</th><th scope=col>Fare</th><th scope=col>Embarked</th></tr></thead>\n",
       "<tbody>\n",
       "\t<tr><td>0      </td><td>3      </td><td>male   </td><td>22     </td><td>1      </td><td>0      </td><td> 7.2500</td><td>S      </td></tr>\n",
       "\t<tr><td>1      </td><td>1      </td><td>female </td><td>38     </td><td>1      </td><td>0      </td><td>71.2833</td><td>C      </td></tr>\n",
       "\t<tr><td>1      </td><td>3      </td><td>female </td><td>26     </td><td>0      </td><td>0      </td><td> 7.9250</td><td>S      </td></tr>\n",
       "\t<tr><td>1      </td><td>1      </td><td>female </td><td>35     </td><td>1      </td><td>0      </td><td>53.1000</td><td>S      </td></tr>\n",
       "\t<tr><td>0      </td><td>3      </td><td>male   </td><td>35     </td><td>0      </td><td>0      </td><td> 8.0500</td><td>S      </td></tr>\n",
       "\t<tr><td>0      </td><td>3      </td><td>male   </td><td>NA     </td><td>0      </td><td>0      </td><td> 8.4583</td><td>Q      </td></tr>\n",
       "</tbody>\n",
       "</table>\n"
      ],
      "text/latex": [
       "\\begin{tabular}{r|llllllll}\n",
       " Survived & Pclass & Sex & Age & SibSp & Parch & Fare & Embarked\\\\\n",
       "\\hline\n",
       "\t 0       & 3       & male    & 22      & 1       & 0       &  7.2500 & S      \\\\\n",
       "\t 1       & 1       & female  & 38      & 1       & 0       & 71.2833 & C      \\\\\n",
       "\t 1       & 3       & female  & 26      & 0       & 0       &  7.9250 & S      \\\\\n",
       "\t 1       & 1       & female  & 35      & 1       & 0       & 53.1000 & S      \\\\\n",
       "\t 0       & 3       & male    & 35      & 0       & 0       &  8.0500 & S      \\\\\n",
       "\t 0       & 3       & male    & NA      & 0       & 0       &  8.4583 & Q      \\\\\n",
       "\\end{tabular}\n"
      ],
      "text/markdown": [
       "\n",
       "Survived | Pclass | Sex | Age | SibSp | Parch | Fare | Embarked | \n",
       "|---|---|---|---|---|---|\n",
       "| 0       | 3       | male    | 22      | 1       | 0       |  7.2500 | S       | \n",
       "| 1       | 1       | female  | 38      | 1       | 0       | 71.2833 | C       | \n",
       "| 1       | 3       | female  | 26      | 0       | 0       |  7.9250 | S       | \n",
       "| 1       | 1       | female  | 35      | 1       | 0       | 53.1000 | S       | \n",
       "| 0       | 3       | male    | 35      | 0       | 0       |  8.0500 | S       | \n",
       "| 0       | 3       | male    | NA      | 0       | 0       |  8.4583 | Q       | \n",
       "\n",
       "\n"
      ],
      "text/plain": [
       "  Survived Pclass Sex    Age SibSp Parch Fare    Embarked\n",
       "1 0        3      male   22  1     0      7.2500 S       \n",
       "2 1        1      female 38  1     0     71.2833 C       \n",
       "3 1        3      female 26  0     0      7.9250 S       \n",
       "4 1        1      female 35  1     0     53.1000 S       \n",
       "5 0        3      male   35  0     0      8.0500 S       \n",
       "6 0        3      male   NA  0     0      8.4583 Q       "
      ]
     },
     "metadata": {},
     "output_type": "display_data"
    }
   ],
   "source": [
    "require(rubbish)\n",
    "data(titanic)\n",
    "head(titanic)"
   ]
  },
  {
   "cell_type": "markdown",
   "metadata": {},
   "source": [
    "## Binning a `data.frame`\n",
    "\n",
    "The first step when building a scorecard with `rubbish` is to prepare the data for modeling. The first step in this process is binning the data using the `bin` function. The `bin` function discretizes continuous variables where applicable and wraps all variables in a Scorecard object that can be easily manipulated."
   ]
  },
  {
   "cell_type": "code",
   "execution_count": 2,
   "metadata": {
    "collapsed": false
   },
   "outputs": [
    {
     "name": "stdout",
     "output_type": "stream",
     "text": [
      "\r",
      "Binning    : =         | Survived                                          \r",
      "Binning    : ==        | Pclass                                            \r",
      "Binning    : ===       | Sex                                               \r",
      "Binning    : =====     | Age                                               \r",
      "Binning    : ======    | SibSp                                             \r",
      "Binning    : =======   | Parch                                             \r",
      "Binning    : ========  | Fare                                              \r",
      "Binning    : ==========| Embarked                                          \n"
     ]
    }
   ],
   "source": [
    "mod <- bin(titanic, titanic$Survived)"
   ]
  },
  {
   "cell_type": "code",
   "execution_count": 3,
   "metadata": {
    "collapsed": false
   },
   "outputs": [
    {
     "data": {
      "text/html": [
       "'Scorecard'"
      ],
      "text/latex": [
       "'Scorecard'"
      ],
      "text/markdown": [
       "'Scorecard'"
      ],
      "text/plain": [
       "[1] \"Scorecard\"\n",
       "attr(,\"package\")\n",
       "[1] \"rubbish\""
      ]
     },
     "metadata": {},
     "output_type": "display_data"
    },
    {
     "data": {
      "text/plain": [
       "1 models\n",
       " |-- *  scratch              | 00.0 ks | "
      ]
     },
     "metadata": {},
     "output_type": "display_data"
    }
   ],
   "source": [
    "class(mod)\n",
    "mod"
   ]
  },
  {
   "cell_type": "markdown",
   "metadata": {},
   "source": [
    "Binning a data.frame returns a scorecard object. A scorecard object consists of a classing and any models that are fit during development. An initial scorecard has one model called \"scratch\" which isn't really model at all but rather a starting point for fitting other models.\n",
    "\n",
    "#### Bin arguments\n",
    "\n",
    "There are many arguments that can be passed to the `bin` funciton. Each controls some aspect of the discretization process. These arguments are optional as `bin` uses a set of sensible defaults.\n",
    "\n",
    "| Argument | Default | Definition |\n",
    "|---|---|---|\n",
    "|data | | `data.frame` of independent predictors to discretize. |\n",
    "|y| |Response variable. Currently only binary responses are supported. |\n",
    "|w| All 1s | Optional weight variable|\n",
    "|min.iv|.001|The minimum information value to split a continuous variable.|\n",
    "|min.cnt|25|The minumum number of observations that must be in a bin after any split.|\n",
    "|min.res|5|The minimum number of response observations that must be in a bin after any split.|\n",
    "|mono|0|Monotoncity constraint (see below) |\n",
    "|max.bin|10|The maximum number of bins into which x is discretized.|\n",
    "|exceptions||A numeric vector of values to be excluded from the discretization process.|\n",
    "\n",
    "| Monotonicity | Defintion |\n",
    "|---|---|\n",
    "|0|No monotoncity enforced - the default. |\n",
    "|1|Increasing monotoncically with y |\n",
    "|-1 |Decreasing monotoncically with y |\n",
    "|2|Either increasing or decreasing montonically with y|\n",
    "\n",
    "### Inspecting binned variables\n",
    "\n",
    "Binned variables can be viewed both graphically and in text format as a table."
   ]
  },
  {
   "cell_type": "code",
   "execution_count": 4,
   "metadata": {
    "collapsed": false,
    "scrolled": true
   },
   "outputs": [
    {
     "data": {
      "text/plain": [
       "Age\n",
       "                        N  #1  #0    %N    %1    %0  P(1)    WoE    IV   Pred\n",
       "[01]  ( -Inf -   6.5]  47  33  14 0.053 0.096 0.026 0.702  1.331 0.094  1.331\n",
       "[02]  (  6.5 - 14.75]  31  12  19 0.035 0.035 0.035 0.387  0.014 0.000  0.014\n",
       "[03]  (14.75 -  17.5]  35  16  19 0.039 0.047 0.035 0.457  0.301 0.004  0.301\n",
       "[04]  ( 17.5 - 30.75] 298 105 193 0.334 0.307 0.352 0.352 -0.135 0.006 -0.135\n",
       "[05]  (30.75 - 36.25] 108  52  56 0.121 0.152 0.102 0.481  0.399 0.020  0.399\n",
       "[06]  (36.25 -  42.5]  66  25  41 0.074 0.073 0.075 0.379 -0.021 0.000 -0.021\n",
       "[07]  ( 42.5 -  47.5]  40  10  30 0.045 0.029 0.055 0.250 -0.625 0.016 -0.625\n",
       "[08]  ( 47.5 -  50.5]  25  15  10 0.028 0.044 0.018 0.600  0.879 0.023  0.879\n",
       "[09]  ( 50.5 -  58.5]  36  15  21 0.040 0.044 0.038 0.417  0.137 0.001  0.137\n",
       "[10]  ( 58.5 -   Inf]  28   7  21 0.031 0.020 0.038 0.250 -0.625 0.011 -0.625\n",
       "[11]  Missing         177  52 125 0.199 0.152 0.228 0.294 -0.404 0.031 -0.404\n",
       "                      891 342 549 1.000 1.000 1.000 0.000  0.000 0.205  0.000"
      ]
     },
     "metadata": {},
     "output_type": "display_data"
    }
   ],
   "source": [
    "mod$variables$Age"
   ]
  },
  {
   "cell_type": "code",
   "execution_count": 5,
   "metadata": {
    "collapsed": false
   },
   "outputs": [
    {
     "data": {
      "image/png": "[encoded data removed]",
      "text/plain": [
       "Plot with title \"Age\""
      ]
     },
     "metadata": {},
     "output_type": "display_data"
    }
   ],
   "source": [
    "options(repr.plot.width=6, repr.plot.height=4)\n",
    "mod$variables$Age$plot()"
   ]
  },
  {
   "cell_type": "markdown",
   "metadata": {},
   "source": [
    "Variables are typically not inspected in this manner. Usually a modeler will call a Scorecard's `adjust` method to enter an interactive variable editing mode. However, static documentation does not make this possible.\n",
    "\n",
    "### Removing Correlated Predictors\n",
    "\n",
    "Multi-collinearity can still be an issue even for machine learning algorithms such as the one employed by `rubbish`. A sensible first step when working with rubbish is to identify which groups of variables are correlated and pick a representative of each. `rubbish` provides two scorecard methods to aid in this analysis: `cluster` `prune_clusters`."
   ]
  },
  {
   "cell_type": "code",
   "execution_count": 6,
   "metadata": {
    "collapsed": false
   },
   "outputs": [
    {
     "name": "stdout",
     "output_type": "stream",
     "text": [
      "\r",
      "Predicting : =         | Pclass                                            \r",
      "Predicting : ==        | Sex                                               \r",
      "Predicting : ====      | Age                                               \r",
      "Predicting : =====     | SibSp                                             \r",
      "Predicting : =======   | Parch                                             \r",
      "Predicting : ========  | Fare                                              \r",
      "Predicting : ==========| Embarked                                          \n"
     ]
    },
    {
     "data": {
      "image/png": "[encoded data removed]",
      "text/plain": [
       "Plot with title \"Cluster Dendrogram\""
      ]
     },
     "metadata": {},
     "output_type": "display_data"
    }
   ],
   "source": [
    "cc <- mod$cluster()\n",
    "plot(cc$cluster)"
   ]
  },
  {
   "cell_type": "markdown",
   "metadata": {},
   "source": [
    "The `cluster` method first substitutes the observed weight of evidence for the input data.frame and the runs base R `corr` function. The result is an object called a `classing_cluster`. This is simply a list with two items. The first is a numeric correlation matrix and the second is a hierarchichal cluster object. The cluster object can be used to find which groups of variables are correlated within a certain threshold. The plot above shows that Pclass and Fare are closetly correlated. This makes intuitive sense as Fare tends to increase with Passenger Class.\n",
    "\n",
    "### Pruning Correlated Variables\n",
    "\n",
    "We can pass the output of the cluster method into `prune_clusters` and specify a correlation threshold as well as a number of variables to keep. `prune_clusters` looks at all groups of correlated variables above the specified threshold. It returns a list of variables to drop that exceed the requested number to keep. For example, if 10 variables are correlated with each other at an R^2 above 0.80 and we request `N=1` variables be kept, `prune_clusters` will keep the most informative variable of the group and return the names of the other nine."
   ]
  },
  {
   "cell_type": "code",
   "execution_count": 7,
   "metadata": {
    "collapsed": false
   },
   "outputs": [
    {
     "name": "stdout",
     "output_type": "stream",
     "text": [
      "       1 \n",
      "\"Pclass\" \n"
     ]
    }
   ],
   "source": [
    "to_drop <- mod$prune_clusters(cc, corr = .60, n = 1)\n",
    "print(to_drop)"
   ]
  },
  {
   "cell_type": "markdown",
   "metadata": {},
   "source": [
    "The variables in the Titanic dataset are not very correlated so a `corr` of 0.60 is provided for illustrative purposes. In this case, `prune_clusters` suggests the variable Pclass should be dropped because Fare has a higher information value. This can be shown by calling the `summary` method of the Scorecard object:"
   ]
  },
  {
   "cell_type": "code",
   "execution_count": 8,
   "metadata": {
    "collapsed": false
   },
   "outputs": [
    {
     "name": "stdout",
     "output_type": "stream",
     "text": [
      "scratch \n",
      "Out-of-Fold KS:  0 \n"
     ]
    },
    {
     "data": {
      "text/html": [
       "<table>\n",
       "<thead><tr><th></th><th scope=col>IV</th><th scope=col>N</th><th scope=col>#1</th><th scope=col>#0</th><th scope=col>P(1)</th><th scope=col>N missing</th><th scope=col>N Exceptions</th><th scope=col>Dropped</th><th scope=col>In Model</th><th scope=col>Coefs</th><th scope=col>Contribution</th></tr></thead>\n",
       "<tbody>\n",
       "\t<tr><th scope=row>Survived</th><td>0.00000000</td><td>891       </td><td>342       </td><td>549       </td><td>0         </td><td>  0       </td><td>0         </td><td>1         </td><td>0         </td><td>NA        </td><td>NA        </td></tr>\n",
       "\t<tr><th scope=row>Pclass</th><td>0.50094974</td><td>891       </td><td>342       </td><td>549       </td><td>0         </td><td>  0       </td><td>0         </td><td>0         </td><td>0         </td><td>NA        </td><td>NA        </td></tr>\n",
       "\t<tr><th scope=row>Sex</th><td>1.34168141</td><td>891       </td><td>342       </td><td>549       </td><td>0         </td><td>  0       </td><td>0         </td><td>0         </td><td>0         </td><td>NA        </td><td>NA        </td></tr>\n",
       "\t<tr><th scope=row>Age</th><td>0.20503919</td><td>891       </td><td>342       </td><td>549       </td><td>0         </td><td>177       </td><td>0         </td><td>0         </td><td>0         </td><td>NA        </td><td>NA        </td></tr>\n",
       "\t<tr><th scope=row>SibSp</th><td>0.17793168</td><td>891       </td><td>342       </td><td>549       </td><td>0         </td><td>  0       </td><td>0         </td><td>0         </td><td>0         </td><td>NA        </td><td>NA        </td></tr>\n",
       "\t<tr><th scope=row>Parch</th><td>0.09745514</td><td>891       </td><td>342       </td><td>549       </td><td>0         </td><td>  0       </td><td>0         </td><td>0         </td><td>0         </td><td>NA        </td><td>NA        </td></tr>\n",
       "\t<tr><th scope=row>Fare</th><td>0.74722120</td><td>891       </td><td>342       </td><td>549       </td><td>0         </td><td>  0       </td><td>0         </td><td>0         </td><td>0         </td><td>NA        </td><td>NA        </td></tr>\n",
       "\t<tr><th scope=row>Embarked</th><td>0.12940396</td><td>891       </td><td>342       </td><td>549       </td><td>0         </td><td>  0       </td><td>0         </td><td>0         </td><td>0         </td><td>NA        </td><td>NA        </td></tr>\n",
       "</tbody>\n",
       "</table>\n"
      ],
      "text/latex": [
       "\\begin{tabular}{r|lllllllllll}\n",
       "  & IV & N & \\#1 & \\#0 & P(1) & N missing & N Exceptions & Dropped & In Model & Coefs & Contribution\\\\\n",
       "\\hline\n",
       "\tSurvived & 0.00000000 & 891        & 342        & 549        & 0          &   0        & 0          & 1          & 0          & NA         & NA        \\\\\n",
       "\tPclass & 0.50094974 & 891        & 342        & 549        & 0          &   0        & 0          & 0          & 0          & NA         & NA        \\\\\n",
       "\tSex & 1.34168141 & 891        & 342        & 549        & 0          &   0        & 0          & 0          & 0          & NA         & NA        \\\\\n",
       "\tAge & 0.20503919 & 891        & 342        & 549        & 0          & 177        & 0          & 0          & 0          & NA         & NA        \\\\\n",
       "\tSibSp & 0.17793168 & 891        & 342        & 549        & 0          &   0        & 0          & 0          & 0          & NA         & NA        \\\\\n",
       "\tParch & 0.09745514 & 891        & 342        & 549        & 0          &   0        & 0          & 0          & 0          & NA         & NA        \\\\\n",
       "\tFare & 0.74722120 & 891        & 342        & 549        & 0          &   0        & 0          & 0          & 0          & NA         & NA        \\\\\n",
       "\tEmbarked & 0.12940396 & 891        & 342        & 549        & 0          &   0        & 0          & 0          & 0          & NA         & NA        \\\\\n",
       "\\end{tabular}\n"
      ],
      "text/markdown": [
       "\n",
       "| <!--/--> | IV | N | #1 | #0 | P(1) | N missing | N Exceptions | Dropped | In Model | Coefs | Contribution | \n",
       "|---|---|---|---|---|---|---|---|\n",
       "| Survived | 0.00000000 | 891        | 342        | 549        | 0          |   0        | 0          | 1          | 0          | NA         | NA         | \n",
       "| Pclass | 0.50094974 | 891        | 342        | 549        | 0          |   0        | 0          | 0          | 0          | NA         | NA         | \n",
       "| Sex | 1.34168141 | 891        | 342        | 549        | 0          |   0        | 0          | 0          | 0          | NA         | NA         | \n",
       "| Age | 0.20503919 | 891        | 342        | 549        | 0          | 177        | 0          | 0          | 0          | NA         | NA         | \n",
       "| SibSp | 0.17793168 | 891        | 342        | 549        | 0          |   0        | 0          | 0          | 0          | NA         | NA         | \n",
       "| Parch | 0.09745514 | 891        | 342        | 549        | 0          |   0        | 0          | 0          | 0          | NA         | NA         | \n",
       "| Fare | 0.74722120 | 891        | 342        | 549        | 0          |   0        | 0          | 0          | 0          | NA         | NA         | \n",
       "| Embarked | 0.12940396 | 891        | 342        | 549        | 0          |   0        | 0          | 0          | 0          | NA         | NA         | \n",
       "\n",
       "\n"
      ],
      "text/plain": [
       "         IV         N   #1  #0  P(1) N missing N Exceptions Dropped In Model\n",
       "Survived 0.00000000 891 342 549 0      0       0            1       0       \n",
       "Pclass   0.50094974 891 342 549 0      0       0            0       0       \n",
       "Sex      1.34168141 891 342 549 0      0       0            0       0       \n",
       "Age      0.20503919 891 342 549 0    177       0            0       0       \n",
       "SibSp    0.17793168 891 342 549 0      0       0            0       0       \n",
       "Parch    0.09745514 891 342 549 0      0       0            0       0       \n",
       "Fare     0.74722120 891 342 549 0      0       0            0       0       \n",
       "Embarked 0.12940396 891 342 549 0      0       0            0       0       \n",
       "         Coefs Contribution\n",
       "Survived NA    NA          \n",
       "Pclass   NA    NA          \n",
       "Sex      NA    NA          \n",
       "Age      NA    NA          \n",
       "SibSp    NA    NA          \n",
       "Parch    NA    NA          \n",
       "Fare     NA    NA          \n",
       "Embarked NA    NA          "
      ]
     },
     "metadata": {},
     "output_type": "display_data"
    }
   ],
   "source": [
    "mod$summary()"
   ]
  },
  {
   "cell_type": "markdown",
   "metadata": {},
   "source": [
    "Indeed, Fare has an information value of 0.74 while Pclass has an information value of only 0.50. In a real model development, the supplied `corr` argument would be much higher (say 0.80 or 0.90). `prune_clusters` returns a list of variables to drop, but how are they dropped in practice? Again, the Scorecard object provides a method for dropping variables: `drop`"
   ]
  },
  {
   "cell_type": "code",
   "execution_count": 9,
   "metadata": {
    "collapsed": false
   },
   "outputs": [
    {
     "data": {
      "text/html": [
       "<ol class=list-inline>\n",
       "\t<li>'Survived'</li>\n",
       "\t<li>'Pclass'</li>\n",
       "</ol>\n"
      ],
      "text/latex": [
       "\\begin{enumerate*}\n",
       "\\item 'Survived'\n",
       "\\item 'Pclass'\n",
       "\\end{enumerate*}\n"
      ],
      "text/markdown": [
       "1. 'Survived'\n",
       "2. 'Pclass'\n",
       "\n",
       "\n"
      ],
      "text/plain": [
       "[1] \"Survived\" \"Pclass\"  "
      ]
     },
     "metadata": {},
     "output_type": "display_data"
    }
   ],
   "source": [
    "mod$drop(to_drop)\n",
    "mod$dropped"
   ]
  },
  {
   "cell_type": "markdown",
   "metadata": {},
   "source": [
    "## Fitting a model\n",
    "\n",
    "After correlated variables have been handled, the next step when modeling with `rubbish` is to fit a model to the data. The model is fit using the excellent `glmnet` package which fits regularized regression and classification models. Regularized (or penalized) models are considered a better than traditional glm models because they penalize coefficients from becoming too large. The type of penalty is a hyper-parameter that can be tuned, but in practice the L1 penalty, or LASSO, works well and results in parsimonious models with fewer variables.\n",
    "\n",
    "Fitting a `rubbish` model is as easy as calling the method and passing in a model name and optional description:"
   ]
  },
  {
   "cell_type": "code",
   "execution_count": 10,
   "metadata": {
    "collapsed": false
   },
   "outputs": [
    {
     "name": "stdout",
     "output_type": "stream",
     "text": [
      "\r",
      "Predicting : =         | Sex                                               \r",
      "Predicting : ===       | Age                                               \r",
      "Predicting : =====     | SibSp                                             \r",
      "Predicting : ======    | Parch                                             \r",
      "Predicting : ========  | Fare                                              \r",
      "Predicting : ==========| Embarked                                          \n"
     ]
    },
    {
     "data": {
      "text/plain": [
       "2 models\n",
       " |--    scratch              | 00.0 ks | \n",
       " |-- *  model 1              | 59.6 ks | initial model with all variables"
      ]
     },
     "metadata": {},
     "output_type": "display_data"
    }
   ],
   "source": [
    "mod$fit(\"model 1\", \"initial model with all variables\")\n",
    "mod"
   ]
  },
  {
   "cell_type": "markdown",
   "metadata": {},
   "source": [
    "The following steps are conducted when fitting a model using `rubbish`:\n",
    "\n",
    "1. First, the weight-of-evidence for all variable bins is substituted for the actual independe variable values. This has the effect of enforcing a linear relationship with the outcome and produces an entirely numeric dataset which `glmnet` requires.\n",
    "2. Secondly, the numeric matrix is passed into `glmnet` and a model is fit using K-fold cross validation to pick the best parameters.\n",
    "3. Once the model parameters are fit, the out-of-fold KS as well as the independent variable contributions are calculated.\n",
    "4. Lastly the model is added to the scorecard object.\n",
    "\n",
    "The model coefficients and conctributions can be view the summary function like before:"
   ]
  },
  {
   "cell_type": "code",
   "execution_count": 11,
   "metadata": {
    "collapsed": false
   },
   "outputs": [
    {
     "name": "stdout",
     "output_type": "stream",
     "text": [
      "model 1 \n",
      "Out-of-Fold KS:  0.5962995 \n"
     ]
    },
    {
     "data": {
      "text/html": [
       "<table>\n",
       "<thead><tr><th></th><th scope=col>IV</th><th scope=col>N</th><th scope=col>#1</th><th scope=col>#0</th><th scope=col>P(1)</th><th scope=col>N missing</th><th scope=col>N Exceptions</th><th scope=col>Dropped</th><th scope=col>In Model</th><th scope=col>Coefs</th><th scope=col>Contribution</th></tr></thead>\n",
       "<tbody>\n",
       "\t<tr><th scope=row>Survived</th><td>0.00000000 </td><td>891        </td><td>342        </td><td>549        </td><td>0          </td><td>  0        </td><td>0          </td><td>1          </td><td>0          </td><td>       NA  </td><td>         NA</td></tr>\n",
       "\t<tr><th scope=row>Pclass</th><td>0.50094974 </td><td>891        </td><td>342        </td><td>549        </td><td>0          </td><td>  0        </td><td>0          </td><td>1          </td><td>0          </td><td>       NA  </td><td>         NA</td></tr>\n",
       "\t<tr><th scope=row>Sex</th><td>1.34168141 </td><td>891        </td><td>342        </td><td>549        </td><td>0          </td><td>  0        </td><td>0          </td><td>0          </td><td>1          </td><td>0.9073497  </td><td>0.154968747</td></tr>\n",
       "\t<tr><th scope=row>Age</th><td>0.20503919 </td><td>891        </td><td>342        </td><td>549        </td><td>0          </td><td>177        </td><td>0          </td><td>0          </td><td>1          </td><td>0.9513867  </td><td>0.022200443</td></tr>\n",
       "\t<tr><th scope=row>SibSp</th><td>0.17793168 </td><td>891        </td><td>342        </td><td>549        </td><td>0          </td><td>  0        </td><td>0          </td><td>0          </td><td>1          </td><td>0.5241223  </td><td>0.006995610</td></tr>\n",
       "\t<tr><th scope=row>Parch</th><td>0.09745514 </td><td>891        </td><td>342        </td><td>549        </td><td>0          </td><td>  0        </td><td>0          </td><td>0          </td><td>0          </td><td>       NA  </td><td>         NA</td></tr>\n",
       "\t<tr><th scope=row>Fare</th><td>0.74722120 </td><td>891        </td><td>342        </td><td>549        </td><td>0          </td><td>  0        </td><td>0          </td><td>0          </td><td>1          </td><td>0.6324211  </td><td>0.034515741</td></tr>\n",
       "\t<tr><th scope=row>Embarked</th><td>0.12940396 </td><td>891        </td><td>342        </td><td>549        </td><td>0          </td><td>  0        </td><td>0          </td><td>0          </td><td>1          </td><td>0.7114175  </td><td>0.007491117</td></tr>\n",
       "</tbody>\n",
       "</table>\n"
      ],
      "text/latex": [
       "\\begin{tabular}{r|lllllllllll}\n",
       "  & IV & N & \\#1 & \\#0 & P(1) & N missing & N Exceptions & Dropped & In Model & Coefs & Contribution\\\\\n",
       "\\hline\n",
       "\tSurvived & 0.00000000  & 891         & 342         & 549         & 0           &   0         & 0           & 1           & 0           &        NA   &          NA\\\\\n",
       "\tPclass & 0.50094974  & 891         & 342         & 549         & 0           &   0         & 0           & 1           & 0           &        NA   &          NA\\\\\n",
       "\tSex & 1.34168141  & 891         & 342         & 549         & 0           &   0         & 0           & 0           & 1           & 0.9073497   & 0.154968747\\\\\n",
       "\tAge & 0.20503919  & 891         & 342         & 549         & 0           & 177         & 0           & 0           & 1           & 0.9513867   & 0.022200443\\\\\n",
       "\tSibSp & 0.17793168  & 891         & 342         & 549         & 0           &   0         & 0           & 0           & 1           & 0.5241223   & 0.006995610\\\\\n",
       "\tParch & 0.09745514  & 891         & 342         & 549         & 0           &   0         & 0           & 0           & 0           &        NA   &          NA\\\\\n",
       "\tFare & 0.74722120  & 891         & 342         & 549         & 0           &   0         & 0           & 0           & 1           & 0.6324211   & 0.034515741\\\\\n",
       "\tEmbarked & 0.12940396  & 891         & 342         & 549         & 0           &   0         & 0           & 0           & 1           & 0.7114175   & 0.007491117\\\\\n",
       "\\end{tabular}\n"
      ],
      "text/markdown": [
       "\n",
       "| <!--/--> | IV | N | #1 | #0 | P(1) | N missing | N Exceptions | Dropped | In Model | Coefs | Contribution | \n",
       "|---|---|---|---|---|---|---|---|\n",
       "| Survived | 0.00000000  | 891         | 342         | 549         | 0           |   0         | 0           | 1           | 0           |        NA   |          NA | \n",
       "| Pclass | 0.50094974  | 891         | 342         | 549         | 0           |   0         | 0           | 1           | 0           |        NA   |          NA | \n",
       "| Sex | 1.34168141  | 891         | 342         | 549         | 0           |   0         | 0           | 0           | 1           | 0.9073497   | 0.154968747 | \n",
       "| Age | 0.20503919  | 891         | 342         | 549         | 0           | 177         | 0           | 0           | 1           | 0.9513867   | 0.022200443 | \n",
       "| SibSp | 0.17793168  | 891         | 342         | 549         | 0           |   0         | 0           | 0           | 1           | 0.5241223   | 0.006995610 | \n",
       "| Parch | 0.09745514  | 891         | 342         | 549         | 0           |   0         | 0           | 0           | 0           |        NA   |          NA | \n",
       "| Fare | 0.74722120  | 891         | 342         | 549         | 0           |   0         | 0           | 0           | 1           | 0.6324211   | 0.034515741 | \n",
       "| Embarked | 0.12940396  | 891         | 342         | 549         | 0           |   0         | 0           | 0           | 1           | 0.7114175   | 0.007491117 | \n",
       "\n",
       "\n"
      ],
      "text/plain": [
       "         IV         N   #1  #0  P(1) N missing N Exceptions Dropped In Model\n",
       "Survived 0.00000000 891 342 549 0      0       0            1       0       \n",
       "Pclass   0.50094974 891 342 549 0      0       0            1       0       \n",
       "Sex      1.34168141 891 342 549 0      0       0            0       1       \n",
       "Age      0.20503919 891 342 549 0    177       0            0       1       \n",
       "SibSp    0.17793168 891 342 549 0      0       0            0       1       \n",
       "Parch    0.09745514 891 342 549 0      0       0            0       0       \n",
       "Fare     0.74722120 891 342 549 0      0       0            0       1       \n",
       "Embarked 0.12940396 891 342 549 0      0       0            0       1       \n",
       "         Coefs     Contribution\n",
       "Survived        NA          NA \n",
       "Pclass          NA          NA \n",
       "Sex      0.9073497 0.154968747 \n",
       "Age      0.9513867 0.022200443 \n",
       "SibSp    0.5241223 0.006995610 \n",
       "Parch           NA          NA \n",
       "Fare     0.6324211 0.034515741 \n",
       "Embarked 0.7114175 0.007491117 "
      ]
     },
     "metadata": {},
     "output_type": "display_data"
    }
   ],
   "source": [
    "mod$summary()"
   ]
  },
  {
   "cell_type": "markdown",
   "metadata": {},
   "source": [
    "### Sorting the variables\n",
    "\n",
    "The Scorecard has a `sort` method which can be used to re-arrange the model variables first by which variables are in th model, then by information value, and lastly by which variables are dropped. Sorting a scorecard puts the most important variables first."
   ]
  },
  {
   "cell_type": "code",
   "execution_count": 12,
   "metadata": {
    "collapsed": false
   },
   "outputs": [
    {
     "name": "stdout",
     "output_type": "stream",
     "text": [
      "model 1 \n",
      "Out-of-Fold KS:  0.5962995 \n"
     ]
    },
    {
     "data": {
      "text/html": [
       "<table>\n",
       "<thead><tr><th></th><th scope=col>IV</th><th scope=col>N</th><th scope=col>#1</th><th scope=col>#0</th><th scope=col>P(1)</th><th scope=col>N missing</th><th scope=col>N Exceptions</th><th scope=col>Dropped</th><th scope=col>In Model</th><th scope=col>Coefs</th><th scope=col>Contribution</th></tr></thead>\n",
       "<tbody>\n",
       "\t<tr><th scope=row>Sex</th><td>1.34168141 </td><td>891        </td><td>342        </td><td>549        </td><td>0          </td><td>  0        </td><td>0          </td><td>0          </td><td>1          </td><td>0.9073497  </td><td>0.154968747</td></tr>\n",
       "\t<tr><th scope=row>Fare</th><td>0.74722120 </td><td>891        </td><td>342        </td><td>549        </td><td>0          </td><td>  0        </td><td>0          </td><td>0          </td><td>1          </td><td>0.6324211  </td><td>0.034515741</td></tr>\n",
       "\t<tr><th scope=row>Age</th><td>0.20503919 </td><td>891        </td><td>342        </td><td>549        </td><td>0          </td><td>177        </td><td>0          </td><td>0          </td><td>1          </td><td>0.9513867  </td><td>0.022200443</td></tr>\n",
       "\t<tr><th scope=row>SibSp</th><td>0.17793168 </td><td>891        </td><td>342        </td><td>549        </td><td>0          </td><td>  0        </td><td>0          </td><td>0          </td><td>1          </td><td>0.5241223  </td><td>0.006995610</td></tr>\n",
       "\t<tr><th scope=row>Embarked</th><td>0.12940396 </td><td>891        </td><td>342        </td><td>549        </td><td>0          </td><td>  0        </td><td>0          </td><td>0          </td><td>1          </td><td>0.7114175  </td><td>0.007491117</td></tr>\n",
       "\t<tr><th scope=row>Parch</th><td>0.09745514 </td><td>891        </td><td>342        </td><td>549        </td><td>0          </td><td>  0        </td><td>0          </td><td>0          </td><td>0          </td><td>       NA  </td><td>         NA</td></tr>\n",
       "\t<tr><th scope=row>Pclass</th><td>0.50094974 </td><td>891        </td><td>342        </td><td>549        </td><td>0          </td><td>  0        </td><td>0          </td><td>1          </td><td>0          </td><td>       NA  </td><td>         NA</td></tr>\n",
       "\t<tr><th scope=row>Survived</th><td>0.00000000 </td><td>891        </td><td>342        </td><td>549        </td><td>0          </td><td>  0        </td><td>0          </td><td>1          </td><td>0          </td><td>       NA  </td><td>         NA</td></tr>\n",
       "</tbody>\n",
       "</table>\n"
      ],
      "text/latex": [
       "\\begin{tabular}{r|lllllllllll}\n",
       "  & IV & N & \\#1 & \\#0 & P(1) & N missing & N Exceptions & Dropped & In Model & Coefs & Contribution\\\\\n",
       "\\hline\n",
       "\tSex & 1.34168141  & 891         & 342         & 549         & 0           &   0         & 0           & 0           & 1           & 0.9073497   & 0.154968747\\\\\n",
       "\tFare & 0.74722120  & 891         & 342         & 549         & 0           &   0         & 0           & 0           & 1           & 0.6324211   & 0.034515741\\\\\n",
       "\tAge & 0.20503919  & 891         & 342         & 549         & 0           & 177         & 0           & 0           & 1           & 0.9513867   & 0.022200443\\\\\n",
       "\tSibSp & 0.17793168  & 891         & 342         & 549         & 0           &   0         & 0           & 0           & 1           & 0.5241223   & 0.006995610\\\\\n",
       "\tEmbarked & 0.12940396  & 891         & 342         & 549         & 0           &   0         & 0           & 0           & 1           & 0.7114175   & 0.007491117\\\\\n",
       "\tParch & 0.09745514  & 891         & 342         & 549         & 0           &   0         & 0           & 0           & 0           &        NA   &          NA\\\\\n",
       "\tPclass & 0.50094974  & 891         & 342         & 549         & 0           &   0         & 0           & 1           & 0           &        NA   &          NA\\\\\n",
       "\tSurvived & 0.00000000  & 891         & 342         & 549         & 0           &   0         & 0           & 1           & 0           &        NA   &          NA\\\\\n",
       "\\end{tabular}\n"
      ],
      "text/markdown": [
       "\n",
       "| <!--/--> | IV | N | #1 | #0 | P(1) | N missing | N Exceptions | Dropped | In Model | Coefs | Contribution | \n",
       "|---|---|---|---|---|---|---|---|\n",
       "| Sex | 1.34168141  | 891         | 342         | 549         | 0           |   0         | 0           | 0           | 1           | 0.9073497   | 0.154968747 | \n",
       "| Fare | 0.74722120  | 891         | 342         | 549         | 0           |   0         | 0           | 0           | 1           | 0.6324211   | 0.034515741 | \n",
       "| Age | 0.20503919  | 891         | 342         | 549         | 0           | 177         | 0           | 0           | 1           | 0.9513867   | 0.022200443 | \n",
       "| SibSp | 0.17793168  | 891         | 342         | 549         | 0           |   0         | 0           | 0           | 1           | 0.5241223   | 0.006995610 | \n",
       "| Embarked | 0.12940396  | 891         | 342         | 549         | 0           |   0         | 0           | 0           | 1           | 0.7114175   | 0.007491117 | \n",
       "| Parch | 0.09745514  | 891         | 342         | 549         | 0           |   0         | 0           | 0           | 0           |        NA   |          NA | \n",
       "| Pclass | 0.50094974  | 891         | 342         | 549         | 0           |   0         | 0           | 1           | 0           |        NA   |          NA | \n",
       "| Survived | 0.00000000  | 891         | 342         | 549         | 0           |   0         | 0           | 1           | 0           |        NA   |          NA | \n",
       "\n",
       "\n"
      ],
      "text/plain": [
       "         IV         N   #1  #0  P(1) N missing N Exceptions Dropped In Model\n",
       "Sex      1.34168141 891 342 549 0      0       0            0       1       \n",
       "Fare     0.74722120 891 342 549 0      0       0            0       1       \n",
       "Age      0.20503919 891 342 549 0    177       0            0       1       \n",
       "SibSp    0.17793168 891 342 549 0      0       0            0       1       \n",
       "Embarked 0.12940396 891 342 549 0      0       0            0       1       \n",
       "Parch    0.09745514 891 342 549 0      0       0            0       0       \n",
       "Pclass   0.50094974 891 342 549 0      0       0            1       0       \n",
       "Survived 0.00000000 891 342 549 0      0       0            1       0       \n",
       "         Coefs     Contribution\n",
       "Sex      0.9073497 0.154968747 \n",
       "Fare     0.6324211 0.034515741 \n",
       "Age      0.9513867 0.022200443 \n",
       "SibSp    0.5241223 0.006995610 \n",
       "Embarked 0.7114175 0.007491117 \n",
       "Parch           NA          NA \n",
       "Pclass          NA          NA \n",
       "Survived        NA          NA "
      ]
     },
     "metadata": {},
     "output_type": "display_data"
    }
   ],
   "source": [
    "mod$sort()\n",
    "mod$summary()"
   ]
  },
  {
   "cell_type": "markdown",
   "metadata": {},
   "source": [
    "## Adjusting Variables\n",
    "\n",
    "Variables often need to be adjusted. Certain bin levels may have to be treated specially for regulatory reasons. In other cases, the default discretization may not be good enough and the modeler may wish to combine or expand levels. `rubbish` provides methods for accomplishing all of these tasks. They are typically accessed via the Scorecard `adjust` method, but as mentioned earlier, that does not work in a static document like this."
   ]
  },
  {
   "cell_type": "markdown",
   "metadata": {},
   "source": [
    "### Expanding and Collapsing Levels"
   ]
  }
 ],
 "metadata": {
  "kernelspec": {
   "display_name": "R",
   "language": "R",
   "name": "ir"
  },
  "language_info": {
   "codemirror_mode": "r",
   "file_extension": ".r",
   "mimetype": "text/x-r-source",
   "name": "R",
   "pygments_lexer": "r",
   "version": "3.3.0"
  }
 },
 "nbformat": 4,
 "nbformat_minor": 2
}
